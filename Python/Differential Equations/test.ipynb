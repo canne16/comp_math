{
 "cells": [
  {
   "cell_type": "code",
   "execution_count": 3,
   "metadata": {},
   "outputs": [
    {
     "ename": "ModuleNotFoundError",
     "evalue": "No module named 'scipy'",
     "output_type": "error",
     "traceback": [
      "\u001b[31m---------------------------------------------------------------------------\u001b[39m",
      "\u001b[31mModuleNotFoundError\u001b[39m                       Traceback (most recent call last)",
      "\u001b[36mCell\u001b[39m\u001b[36m \u001b[39m\u001b[32mIn[3]\u001b[39m\u001b[32m, line 3\u001b[39m\n\u001b[32m      1\u001b[39m \u001b[38;5;28;01mimport\u001b[39;00m\u001b[38;5;250m \u001b[39m\u001b[34;01mnumpy\u001b[39;00m\u001b[38;5;250m \u001b[39m\u001b[38;5;28;01mas\u001b[39;00m\u001b[38;5;250m \u001b[39m\u001b[34;01mnp\u001b[39;00m\n\u001b[32m      2\u001b[39m \u001b[38;5;28;01mimport\u001b[39;00m\u001b[38;5;250m \u001b[39m\u001b[34;01mmatplotlib\u001b[39;00m\u001b[34;01m.\u001b[39;00m\u001b[34;01mpyplot\u001b[39;00m\u001b[38;5;250m \u001b[39m\u001b[38;5;28;01mas\u001b[39;00m\u001b[38;5;250m \u001b[39m\u001b[34;01mplt\u001b[39;00m\n\u001b[32m----> \u001b[39m\u001b[32m3\u001b[39m \u001b[38;5;28;01mfrom\u001b[39;00m\u001b[38;5;250m \u001b[39m\u001b[34;01mscipy\u001b[39;00m\u001b[34;01m.\u001b[39;00m\u001b[34;01mstats\u001b[39;00m\u001b[38;5;250m \u001b[39m\u001b[38;5;28;01mimport\u001b[39;00m linregress\n",
      "\u001b[31mModuleNotFoundError\u001b[39m: No module named 'scipy'"
     ]
    }
   ],
   "source": [
    "import numpy as np\n",
    "import matplotlib.pyplot as plt\n",
    "from scipy.stats import linregress"
   ]
  },
  {
   "cell_type": "code",
   "execution_count": 4,
   "metadata": {},
   "outputs": [],
   "source": [
    "# Функция точного решения\n",
    "def true_solution(t):\n",
    "    return np.array([np.cosh(t), np.sinh(t)])\n",
    "\n",
    "\n",
    "# Метод Эйлера (1 порядок)\n",
    "def euler(f, f_t0, t1, t2, h):\n",
    "    num_steps = int((t2 - t1) / h)\n",
    "    solution = np.zeros((num_steps + 1, len(f_t0)))\n",
    "    solution[0] = f_t0\n",
    "    t = t1\n",
    "    for step in range(1, num_steps + 1):\n",
    "        solution[step] = solution[step - 1] + h * f(t, solution[step - 1])\n",
    "        t += h\n",
    "    return solution\n",
    "\n",
    "\n",
    "# Метод трапеций (2 порядок)\n",
    "def trapezoidal(f, f_t0, t1, t2, h):\n",
    "    num_steps = int((t2 - t1) / h)\n",
    "    solution = np.zeros((num_steps + 1, len(f_t0)))\n",
    "    solution[0] = f_t0\n",
    "    time = t1\n",
    "    for step in range(1, num_steps + 1):\n",
    "        predicted = solution[step - 1] + h * f(time, solution[step - 1])\n",
    "        solution[step] = solution[step - 1] + (h / 2) * (f(time, solution[step - 1]) + f(time + h, predicted))\n",
    "        time += h\n",
    "    return solution\n",
    "\n",
    "\n",
    "# Метод Рунге-Кутты 4-го порядка\n",
    "def runge_kutta(f, f_t0, t1, t2, h):\n",
    "    num_steps = int((t2 - t1) / h)\n",
    "    solution = np.zeros((num_steps + 1, len(f_t0)))\n",
    "    solution[0] = f_t0\n",
    "    time = t1\n",
    "    for step in range(1, num_steps + 1):\n",
    "        k1 = f(time, solution[step - 1])\n",
    "        k2 = f(time + h / 2, solution[step - 1] + h / 2 * k1)\n",
    "        k3 = f(time + h / 2, solution[step - 1] + h / 2 * k2)\n",
    "        k4 = f(time + h, solution[step - 1] + h * k3)\n",
    "        solution[step] = solution[step - 1] + (h / 6) * (k1 + 2 * k2 + 2 * k3 + k4)\n",
    "        time += h\n",
    "    return solution"
   ]
  },
  {
   "cell_type": "code",
   "execution_count": 2,
   "metadata": {},
   "outputs": [
    {
     "ename": "NameError",
     "evalue": "name 'euler' is not defined",
     "output_type": "error",
     "traceback": [
      "\u001b[31m---------------------------------------------------------------------------\u001b[39m",
      "\u001b[31mNameError\u001b[39m                                 Traceback (most recent call last)",
      "\u001b[36mCell\u001b[39m\u001b[36m \u001b[39m\u001b[32mIn[2]\u001b[39m\u001b[32m, line 15\u001b[39m\n\u001b[32m     12\u001b[39m rk4_errors = []\n\u001b[32m     14\u001b[39m \u001b[38;5;28;01mfor\u001b[39;00m h \u001b[38;5;129;01min\u001b[39;00m h_values:\n\u001b[32m---> \u001b[39m\u001b[32m15\u001b[39m     euler_solution = \u001b[43meuler\u001b[49m(equation, f_t0, t1, t2, h)\n\u001b[32m     16\u001b[39m     trapezoidal_solution = trapezoidal(equation, f_t0, t1, t2, h)\n\u001b[32m     17\u001b[39m     rk4_solution = runge_kutta(equation, f_t0, t1, t2, h)\n",
      "\u001b[31mNameError\u001b[39m: name 'euler' is not defined"
     ]
    }
   ],
   "source": [
    "# Функция для правой части дифференциального уравнения\n",
    "def equation(t, state):\n",
    "    return np.array([state[1], state[0]])\n",
    "\n",
    "# Параметры задачи\n",
    "t1, t2 = 0, 10\n",
    "f_t0 = np.array([1, 0])  # y(0) = 1, y'(0) = 0\n",
    "h_values = np.logspace(-1, -10, 10, base=2)*0.1\n",
    "\n",
    "euler_errors = []\n",
    "trapezoidal_errors = []\n",
    "rk4_errors = []\n",
    "\n",
    "for h in h_values:\n",
    "    euler_solution = euler(equation, f_t0, t1, t2, h)\n",
    "    trapezoidal_solution = trapezoidal(equation, f_t0, t1, t2, h)\n",
    "    rk4_solution = runge_kutta(equation, f_t0, t1, t2, h)\n",
    "\n",
    "    exact_solution = true_solution(t2)\n",
    "\n",
    "    euler_error = np.linalg.norm(euler_solution[-1] - exact_solution)\n",
    "    trapezoidal_error = np.linalg.norm(trapezoidal_solution[-1] - exact_solution)\n",
    "    rk4_error = np.linalg.norm(rk4_solution[-1] - exact_solution)\n",
    "\n",
    "    euler_errors.append(euler_error)\n",
    "    trapezoidal_errors.append(trapezoidal_error)\n",
    "    rk4_errors.append(rk4_error)"
   ]
  },
  {
   "cell_type": "code",
   "execution_count": null,
   "metadata": {},
   "outputs": [],
   "source": [
    "log_hs = np.log(h_values)\n",
    "log_euler_errors = np.log(euler_errors)\n",
    "log_trapezoidal_errors = np.log(trapezoidal_errors)\n",
    "log_rk4_errors = np.log(rk4_errors)\n",
    "\n",
    "# Вычисление наклонов (точность методов)\n",
    "euler_slope, _, _, _, _ = linregress(log_hs, log_euler_errors)\n",
    "trapezoidal_slope, _, _, _, _ = linregress(log_hs, log_trapezoidal_errors)\n",
    "rk4_slope, _, _, _, _ = linregress(log_hs[:4], log_rk4_errors[:4])\n",
    "\n",
    "plt.figure(figsize=(10, 6))\n",
    "plt.plot(log_hs, log_euler_errors, marker='o', color='blue', label=f'Метод Эйлера (наклон={euler_slope:.2f})')\n",
    "plt.plot(log_hs, log_trapezoidal_errors, marker='o', color='red', label=f'Метод трапеций (наклон={trapezoidal_slope:.2f})')\n",
    "plt.plot(log_hs, log_rk4_errors, marker='o', color='green', label=f'Метод Рунге-Кутты 4-го порядка (наклон={rk4_slope:.2f})')\n",
    "\n",
    "plt.title('Ошибка от шага', fontsize=14)\n",
    "plt.xlabel('ln(h)', fontsize=12)\n",
    "plt.ylabel('ln(error)', fontsize=12)\n",
    "plt.legend()\n",
    "plt.grid(True, linestyle='--', linewidth=0.5)\n",
    "plt.show()"
   ]
  },
  {
   "cell_type": "code",
   "execution_count": null,
   "metadata": {},
   "outputs": [],
   "source": []
  }
 ],
 "metadata": {
  "kernelspec": {
   "display_name": "Python 3 (ipykernel)",
   "language": "python",
   "name": "python3"
  },
  "language_info": {
   "codemirror_mode": {
    "name": "ipython",
    "version": 3
   },
   "file_extension": ".py",
   "mimetype": "text/x-python",
   "name": "python",
   "nbconvert_exporter": "python",
   "pygments_lexer": "ipython3",
   "version": "3.13.2"
  }
 },
 "nbformat": 4,
 "nbformat_minor": 4
}
