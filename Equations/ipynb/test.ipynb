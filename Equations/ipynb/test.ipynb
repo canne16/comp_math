{
 "cells": [
  {
   "cell_type": "code",
   "execution_count": null,
   "metadata": {},
   "outputs": [],
   "source": [
    "import numpy as np\n",
    "import matplotlib.pyplot as plt\n",
    "from math import pow"
   ]
  },
  {
   "cell_type": "code",
   "execution_count": 48,
   "metadata": {},
   "outputs": [],
   "source": [
    "def qroot(a):\n",
    "    return pow(a, 1/3) if a >=0 else -pow(abs(a), 1/3)"
   ]
  },
  {
   "cell_type": "markdown",
   "metadata": {},
   "source": [
    "#### Методы численного решения уравнений"
   ]
  },
  {
   "cell_type": "code",
   "execution_count": null,
   "metadata": {},
   "outputs": [],
   "source": [
    "# Метод бисекции, func(a)*func(b) < 0\n",
    "def bisect(func, a, b, eps):\n",
    "    \n",
    "    while abs(a-b) > eps:\n",
    "        c = (b+a)/2\n",
    "        if func(c)*func(a) < 0:\n",
    "            b = c\n",
    "        else:\n",
    "            a = c\n",
    "\n",
    "    return (a+b)/2\n",
    "\n",
    "# Метод Ньютона\n",
    "def newton(f, f_prime, x0, eps=1e-11, max_iter=1000000):\n",
    "\n",
    "\tx, x_prev, i = x0, x0 + 2 * eps, 0\n",
    "\n",
    "\twhile abs(x - x_prev) >= eps and i < max_iter:\n",
    "\t\tx_m_1 = x_prev\n",
    "\t\tx, x_prev, i = x - f(x) / f_prime(x), x, i + 1\n",
    "\t\t\n",
    "\tprint(f\"p={(1 - (x - x_prev) / (x_prev  - x_m_1)) ** -1}\")\t\t# Оценка кратности корня\n",
    "\n",
    "\n",
    "\treturn x"
   ]
  },
  {
   "cell_type": "markdown",
   "metadata": {},
   "source": [
    "#### Метод Ньютона для систем уравнений"
   ]
  },
  {
   "cell_type": "code",
   "execution_count": 12,
   "metadata": {},
   "outputs": [],
   "source": [
    "# Метод Ньютона для вектор-функций\n",
    "def newton_sys(F, dF, x0, eps=1e-7, max_iter=10000000):\n",
    "\n",
    "\tx, x_prev, i = x0, x0 + 2 * eps, 0\n",
    "\n",
    "\twhile np.linalg.norm(x - x_prev) >= eps and i < max_iter:\n",
    "\t\tdx = np.linalg.solve(dF(x), -F(x))\n",
    "\t\tx, x_prev, i = x + dx, x, i + 1\n",
    "\n",
    "\treturn x"
   ]
  },
  {
   "cell_type": "markdown",
   "metadata": {},
   "source": [
    "#### Проверка методов"
   ]
  },
  {
   "cell_type": "code",
   "execution_count": null,
   "metadata": {},
   "outputs": [
    {
     "name": "stdout",
     "output_type": "stream",
     "text": [
      "3.1415926535900\n"
     ]
    }
   ],
   "source": [
    "eps = 1e-12\n",
    "a = -10\n",
    "b = 10\n",
    "\n",
    "def func(x):\n",
    "    return (x-np.pi)**9\n",
    "\n",
    "def deriv_1(x):\n",
    "    return 9*(x-np.pi)**8\n",
    "\n",
    "x = bisect(func, a, b, eps)\n",
    "x = newton(func, deriv_1, 5)\n",
    "\n",
    "print(f'{x:.13f}')    "
   ]
  },
  {
   "cell_type": "markdown",
   "metadata": {},
   "source": [
    "#### Проверка метода Ньютона для системы из 2х уравнений"
   ]
  },
  {
   "cell_type": "code",
   "execution_count": 51,
   "metadata": {},
   "outputs": [
    {
     "name": "stdout",
     "output_type": "stream",
     "text": [
      "[[27 -1]\n",
      " [ 9 -3]]\n",
      "----------\n",
      "[2.28291289 3.89783722]\n"
     ]
    },
    {
     "data": {
      "image/png": "[encoded data removed]",
      "text/plain": [
       "<Figure size 300x400 with 1 Axes>"
      ]
     },
     "metadata": {},
     "output_type": "display_data"
    }
   ],
   "source": [
    "\n",
    "# f1 и производные\n",
    "def f1(x, y):\n",
    "    return x**3 - y - 8\n",
    "\n",
    "def df1x(x, y):\n",
    "    return 3*x**2\n",
    "\n",
    "def df1y(x, y):\n",
    "    return -1\n",
    "\n",
    "# f2 и производные\n",
    "def f2(x, y):\n",
    "    return (x - y)**3 + x**2 - 1\n",
    "\n",
    "def df2x(x, y):\n",
    "    return 3*(x-y)**2 +2*x\n",
    "\n",
    "def df2y(x, y):\n",
    "    return -3*(x-y)**2\n",
    "\n",
    "# Система F из f1 и f2\n",
    "def F(X):\n",
    "    x, y = X\n",
    "    return np.array([f1(x, y), f2(x, y)])\n",
    "\n",
    "def dF(X):\n",
    "    x, y = X\n",
    "    return np.array([df1x(x, y), df1y(x, y), df2x(x, y), df2y(x, y)]).reshape((2, 2))\n",
    "\n",
    "X = np.array([3, 4])\n",
    "\n",
    "print(dF(X))\n",
    "print(\"----------\")\n",
    "\n",
    "print(newton_sys(F, dF, X))\n",
    "\n",
    "\n",
    "x = np.linspace(-2, 3, 400)\n",
    "y1 = [xi**3-8 for xi in x]\n",
    "y2 = [xi-qroot(1-xi**2) for xi in x]\n",
    "\n",
    "fig = plt.figure(figsize=(3,4))\n",
    "plt.plot(x, y1, label='f1')\n",
    "plt.plot(x, y2, label='f2')\n",
    "plt.ylim((-10,5))\n",
    "plt.legend()\n",
    "plt.show()"
   ]
  },
  {
   "cell_type": "code",
   "execution_count": null,
   "metadata": {},
   "outputs": [],
   "source": []
  }
 ],
 "metadata": {
  "kernelspec": {
   "display_name": "Python 3",
   "language": "python",
   "name": "python3"
  },
  "language_info": {
   "codemirror_mode": {
    "name": "ipython",
    "version": 3
   },
   "file_extension": ".py",
   "mimetype": "text/x-python",
   "name": "python",
   "nbconvert_exporter": "python",
   "pygments_lexer": "ipython3",
   "version": "3.11.9"
  }
 },
 "nbformat": 4,
 "nbformat_minor": 2
}
