{
 "cells": [
  {
   "cell_type": "code",
   "execution_count": null,
   "metadata": {},
   "outputs": [],
   "source": [
    "import numpy as np\n",
    "import matplotlib.pyplot as plt"
   ]
  },
  {
   "cell_type": "markdown",
   "metadata": {},
   "source": [
    "#### Методы численного интегрирования: трапеций, прямоугольников, Симспона"
   ]
  },
  {
   "cell_type": "code",
   "execution_count": null,
   "metadata": {},
   "outputs": [],
   "source": [
    "def trapez(f, a, b, n):\n",
    "    h = (b - a) / n                                             # шаг разбиения\n",
    "    x = [a + i * h for i in range(n + 1)]                       # отсчеты\n",
    "    y = [f(x_i) for x_i in x]                                   # значения функции в узлах\n",
    "\n",
    "    result = (y[0] + 2*sum(y[1:-1]) + y[-1]) / 2 * h            # вычисление интеграла\n",
    "    return result\n",
    "\n",
    "\n",
    "def rectang(f, a, b, n, method='left'):\n",
    "\n",
    "    h = (b - a) / n                            # шаг разбиения\n",
    "    x = [a + i * h for i in range(n + 1)]      # отсчеты\n",
    "\n",
    "    if method == 'left':                       # значения функции в узлах\n",
    "        y = [f(x_i) for x_i in x[:-1]]\n",
    "    elif method == 'right':\n",
    "        y = [f(x_i) for x_i in x[1:]]\n",
    "    elif method == 'midpoint':\n",
    "        y = [f(x_i + h / 2) for x_i in x[:-1]]\n",
    "\n",
    "    result = sum(y) * h                        # вычисление интеграла\n",
    "    return result\n",
    "\n",
    "\n",
    "def simpson(f, a, b, n):\n",
    "\n",
    "    assert n%2 == 0, \"Нечетное число интервалов\"\n",
    "\n",
    "    h = (b - a) / n                            # шаг разбиения\n",
    "    x = [a + i * h for i in range(n + 1)]      # отсчеты\n",
    "    y = [f(x_i) for x_i in x]                  # значения функции в узлах\n",
    "\n",
    "    result = (y[0] + 4 * sum(y[1:-1:2]) + 2 * sum(y[2:-1:2]) + y[-1]) / 3 * h\n",
    "    return result\n",
    "\n"
   ]
  },
  {
   "cell_type": "markdown",
   "metadata": {},
   "source": [
    "#### Проверка численного интегрирования"
   ]
  },
  {
   "cell_type": "code",
   "execution_count": 23,
   "metadata": {},
   "outputs": [
    {
     "name": "stdout",
     "output_type": "stream",
     "text": [
      "Левая точка: 1.9998355038874436\n",
      "Правая точка: 1.9998355038874436\n",
      "Средняя точка: 2.0000822490709864\n",
      "Трапеция: 1.9998355038874436\n",
      "Симпсон: 2.000000010824504\n"
     ]
    }
   ],
   "source": [
    "def f(x):\n",
    "    return np.sin(x)\n",
    "\n",
    "a = 0\n",
    "b = np.pi\n",
    "n = 100\n",
    "\n",
    "res_trap = trapez(f, a, b, n)\n",
    "res_req_left = rectang(f, a, b, n, method='left')\n",
    "res_req_right = rectang(f, a, b, n, method='right')\n",
    "res_req_midpoint = rectang(f, a, b, n, method='midpoint')\n",
    "res_sim = simpson(f, a, b, n)\n",
    "\n",
    "print(\"Левая точка:\", res_req_left)\n",
    "print(\"Правая точка:\", res_req_right)\n",
    "print(\"Средняя точка:\", res_req_midpoint)\n",
    "print(\"Трапеция:\", res_trap)\n",
    "print(\"Симпсон:\", res_sim)\n"
   ]
  },
  {
   "cell_type": "markdown",
   "metadata": {},
   "source": [
    "#### Ошибка интегрирования от мелкости разбиения"
   ]
  },
  {
   "cell_type": "code",
   "execution_count": 48,
   "metadata": {},
   "outputs": [
    {
     "data": {
      "image/png": "[encoded data removed]",
      "text/plain": [
       "<Figure size 640x480 with 1 Axes>"
      ]
     },
     "metadata": {},
     "output_type": "display_data"
    }
   ],
   "source": [
    "def f(x):\n",
    "    return np.exp(x)\n",
    "\n",
    "a = 0\n",
    "b = 1\n",
    "integral = 1.718281828\n",
    "\n",
    "n = np.linspace(1, 1000, 200, dtype=np.int32) * 2\n",
    "res = [simpson(f, a, b, n_i) for n_i in n]\n",
    "\n",
    "dy = [abs(integral - res_i) for res_i in res]\n",
    "\n",
    "plt.plot(np.log(n), np.log(dy))\n",
    "plt.xlabel('$log(n)$')\n",
    "plt.ylabel('$Diff$')\n",
    "plt.show()\n"
   ]
  },
  {
   "cell_type": "markdown",
   "metadata": {},
   "source": [
    "#### Правило Рунге оценки погрешности"
   ]
  },
  {
   "cell_type": "code",
   "execution_count": 45,
   "metadata": {},
   "outputs": [
    {
     "name": "stdout",
     "output_type": "stream",
     "text": [
      "Оценка интеграла с использованием правила Рунге: 2.0000067844418012; разница с истинным:6.8488582135373125e-06\n"
     ]
    }
   ],
   "source": [
    "def runge_rule(f, a, b, n1, n2):\n",
    "    In = simpson(f, a, b, n1)\n",
    "    I2n = simpson(f, a, b, n2)\n",
    "    R = abs(I2n - In) / (2**4 - 1)   # theta = 2^4 - 1, для метода Симпсона\n",
    "\n",
    "    return I2n, R\n",
    "\n",
    "\n",
    "def f(x):\n",
    "    return np.sin(x)\n",
    "\n",
    "a = 0\n",
    "b = np.pi\n",
    "n1 = 10\n",
    "n2 = 20\n",
    "\n",
    "res, delta = runge_rule(f, a, b, n1, n2)\n",
    "\n",
    "print(f\"Оценка интеграла с использованием правила Рунге: {res}; разница с истинным:{delta}\")"
   ]
  }
 ],
 "metadata": {
  "kernelspec": {
   "display_name": "Python 3",
   "language": "python",
   "name": "python3"
  },
  "language_info": {
   "codemirror_mode": {
    "name": "ipython",
    "version": 3
   },
   "file_extension": ".py",
   "mimetype": "text/x-python",
   "name": "python",
   "nbconvert_exporter": "python",
   "pygments_lexer": "ipython3",
   "version": "3.12.0"
  }
 },
 "nbformat": 4,
 "nbformat_minor": 2
}
