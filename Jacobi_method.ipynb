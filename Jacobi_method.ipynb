{
 "cells": [
  {
   "cell_type": "code",
   "execution_count": 49,
   "metadata": {},
   "outputs": [],
   "source": [
    "import numpy as np\n",
    "import matrix_generator"
   ]
  },
  {
   "cell_type": "markdown",
   "metadata": {},
   "source": [
    "\n",
    "# Matrix generation\n"
   ]
  },
  {
   "cell_type": "code",
   "execution_count": 50,
   "metadata": {},
   "outputs": [
    {
     "name": "stdout",
     "output_type": "stream",
     "text": [
      "[14. -5.  0. -4. -4.] [  3] -> [57.0]\n",
      "[-2. 17.  2. -2. -2.] [ -3] -> [-51.0]\n",
      "[ 4. -5. 17.  4.  1.] [  3] -> [78.0]\n",
      "[-2. -8.  0.  8. -2.] [  0] -> [18.0]\n",
      "[-2. -4.  5.  0. 10.] [  0] -> [21.0]\n"
     ]
    }
   ],
   "source": [
    "N = 5\n",
    "scale = 5\n",
    "\n",
    "A = matrix_generator.generate_inv_mat(N, scale)         #   \n",
    "A = matrix_generator.matJacobiCorr(A)                   #   corrects the matrix so that it fits Jacobi condition\n",
    "x_ref, f = matrix_generator.matrixToSLE(A, scale)       #"
   ]
  },
  {
   "cell_type": "markdown",
   "metadata": {},
   "source": [
    "# Solving linear system"
   ]
  },
  {
   "cell_type": "code",
   "execution_count": 53,
   "metadata": {},
   "outputs": [],
   "source": [
    "x = np.array([1]*N)\n",
    "\n",
    "N_iterations = 10000\n",
    "\n",
    "for cycle in range(N_iterations):\n",
    "    x_old = x.copy()\n",
    "    for j in range(N):  \n",
    "        x[j] = f[j]/A[j][j] - np.dot(A[j]/A[j][j], x) + x_old[j]\n"
   ]
  },
  {
   "cell_type": "markdown",
   "metadata": {},
   "source": [
    "# Comparing result with reference"
   ]
  },
  {
   "cell_type": "code",
   "execution_count": 54,
   "metadata": {},
   "outputs": [
    {
     "name": "stdout",
     "output_type": "stream",
     "text": [
      "[ 3 -2  3  1  0]\n",
      "[ 3 -3  3  0  0]\n"
     ]
    }
   ],
   "source": [
    "print(x)\n",
    "print(x_ref)"
   ]
  },
  {
   "cell_type": "code",
   "execution_count": null,
   "metadata": {},
   "outputs": [],
   "source": []
  }
 ],
 "metadata": {
  "kernelspec": {
   "display_name": "Python 3",
   "language": "python",
   "name": "python3"
  },
  "language_info": {
   "codemirror_mode": {
    "name": "ipython",
    "version": 3
   },
   "file_extension": ".py",
   "mimetype": "text/x-python",
   "name": "python",
   "nbconvert_exporter": "python",
   "pygments_lexer": "ipython3",
   "version": "3.12.5"
  }
 },
 "nbformat": 4,
 "nbformat_minor": 2
}
